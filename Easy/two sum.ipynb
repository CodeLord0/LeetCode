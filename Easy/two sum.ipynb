{
 "cells": [
  {
   "cell_type": "code",
   "execution_count": null,
   "metadata": {},
   "outputs": [],
   "source": [
    "# Given an array of integers nums and an integer target, return indices of the two numbers such that they add up to target.\n",
    "\n",
    "# You may assume that each input would have exactly one solution, and you may not use the same element twice.\n",
    "\n",
    "# You can return the answer in any order."
   ]
  },
  {
   "cell_type": "code",
   "execution_count": null,
   "metadata": {},
   "outputs": [],
   "source": [
    "def nums(array,target):\n",
    "    index = 0\n",
    "    #target = 41\n",
    "    value = array[index]#each value in the array\n",
    "    num_check = target - value#comlement value in the array\n",
    "    key_val=[]#index store\n",
    "\n",
    "    if num_check in array:# checks if complemet is in array\n",
    "        key_val=[array.index(num_check) , array.index(value)]#print complemts values\n",
    "        #print(key_val)\n",
    "        return key_val\n",
    "        \n",
    "    else:\n",
    "\n",
    "        while num_check not in array:#loops until complemet is found\n",
    "            value = array[index]\n",
    "            num_check = target - value\n",
    "            index +=1\n",
    "            #print(num_check)\n",
    "            if num_check in array:#if complemnt found\n",
    "                key_val= [array.index(num_check) , array.index(value)]\n",
    "                #print(f'{num_check} + {value}')\n",
    "                #print(key_val)\n",
    "                return key_val\n",
    "\n",
    "nums([1,2,3,4,5],7)"
   ]
  }
 ],
 "metadata": {
  "kernelspec": {
   "display_name": "Python 3",
   "language": "python",
   "name": "python3"
  },
  "language_info": {
   "codemirror_mode": {
    "name": "ipython",
    "version": 3
   },
   "file_extension": ".py",
   "mimetype": "text/x-python",
   "name": "python",
   "nbconvert_exporter": "python",
   "pygments_lexer": "ipython3",
   "version": "3.12.4"
  }
 },
 "nbformat": 4,
 "nbformat_minor": 2
}
