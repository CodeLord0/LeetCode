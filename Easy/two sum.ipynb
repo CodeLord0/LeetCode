{
 "cells": [
  {
   "cell_type": "code",
   "execution_count": null,
   "metadata": {},
   "outputs": [],
   "source": [
    "# Given an array of integers nums and an integer target, return indices of the two numbers such that they add up to target.\n",
    "\n",
    "# You may assume that each input would have exactly one solution, and you may not use the same element twice.\n",
    "\n",
    "# You can return the answer in any order."
   ]
  },
  {
   "cell_type": "code",
   "execution_count": 1,
   "metadata": {},
   "outputs": [
    {
     "name": "stdout",
     "output_type": "stream",
     "text": [
      "{1: 0}\n",
      "{1: 0, 2: 1}\n"
     ]
    },
    {
     "data": {
      "text/plain": [
       "[1, 2]"
      ]
     },
     "execution_count": 1,
     "metadata": {},
     "output_type": "execute_result"
    }
   ],
   "source": [
    "def two_sum_no_enumerate(nums, target):\n",
    "  \"\"\"\n",
    "  Finds two numbers in an array that add up to a target without using enumerate.\n",
    "\n",
    "  Args:\n",
    "      nums: A list of integers.\n",
    "      target: The target sum.\n",
    "\n",
    "  Returns:\n",
    "      A list of two indices that add up to the target, or an empty list if not found.\n",
    "  \"\"\"\n",
    "  seen = {}\n",
    "  for i in range(len(nums)):\n",
    "    complement = target - nums[i]\n",
    "    if complement in seen:\n",
    "      return [seen[complement], i]\n",
    "    seen[nums[i]] = i\n",
    "    print(seen)\n",
    "  return []\n",
    "  \n",
    "\n",
    "two_sum_no_enumerate([1,2,3,4],5)"
   ]
  },
  {
   "cell_type": "code",
   "execution_count": null,
   "metadata": {},
   "outputs": [],
   "source": [
    "print(seen)"
   ]
  }
 ],
 "metadata": {
  "kernelspec": {
   "display_name": "Python 3",
   "language": "python",
   "name": "python3"
  },
  "language_info": {
   "codemirror_mode": {
    "name": "ipython",
    "version": 3
   },
   "file_extension": ".py",
   "mimetype": "text/x-python",
   "name": "python",
   "nbconvert_exporter": "python",
   "pygments_lexer": "ipython3",
   "version": "3.12.4"
  }
 },
 "nbformat": 4,
 "nbformat_minor": 2
}
